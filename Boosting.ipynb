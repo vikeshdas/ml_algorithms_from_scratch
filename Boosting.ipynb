{
 "cells": [
  {
   "cell_type": "code",
   "execution_count": 599,
   "id": "63fb3842-8fc5-4ae0-aafc-fb08eef867bc",
   "metadata": {},
   "outputs": [],
   "source": [
    "import pandas as pd\n",
    "import numpy as np\n",
    "from mlxtend.plotting import plot_decision_regions\n",
    "from sklearn.tree import DecisionTreeClassifier\n",
    "from mlxtend.plotting import plot_decision_regions"
   ]
  },
  {
   "cell_type": "code",
   "execution_count": 600,
   "id": "fd3b4eb6-1a6f-4629-bf39-e9928e019d8c",
   "metadata": {},
   "outputs": [],
   "source": [
    "df = pd.DataFrame()\n",
    "df['X1'] = [1,2,3,4,5,6,6,7,9,9]\n",
    "df['X2'] = [5,3,6,8,1,9,5,8,9,2]\n",
    "df['label'] = [1,1,0,1,0,1,0,1,0,0]"
   ]
  },
  {
   "cell_type": "code",
   "execution_count": 601,
   "id": "5c173bcf-dc9a-44df-aaab-7622eb6727fd",
   "metadata": {},
   "outputs": [],
   "source": [
    "def add_weights(df):\n",
    "    df['weights'] = 1/df.shape[0]"
   ]
  },
  {
   "cell_type": "code",
   "execution_count": 602,
   "id": "9dfb8c8c-5aca-4465-8bc4-1d0491c9d638",
   "metadata": {},
   "outputs": [],
   "source": [
    "def train_mode(df):\n",
    "    # features\n",
    "    X = df.iloc[:,0:2].values\n",
    "    # label\n",
    "    y = df.iloc[:,2].values\n",
    "    # create decesion tree object with max width 1 known as stum\n",
    "    dt1 = DecisionTreeClassifier(max_depth=1)\n",
    "    # Step 2 - Train 1st model\n",
    "    dt1.fit(X,y)\n",
    "    return dt1;\n"
   ]
  },
  {
   "cell_type": "code",
   "execution_count": 603,
   "id": "d7cf247d-52b0-4ebf-9b46-c306809182a7",
   "metadata": {},
   "outputs": [],
   "source": [
    "def append_prediciton(df):\n",
    "    # append prediction in dataset\n",
    "    X = df.iloc[:,0:2].values\n",
    "    df['y_pred'] = dt1.predict(X)"
   ]
  },
  {
   "cell_type": "code",
   "execution_count": 604,
   "id": "34ca54bf-bbc3-4930-8bf5-d296a0e02399",
   "metadata": {},
   "outputs": [],
   "source": [
    "def cal_alpha(df):\n",
    "    label=df[\"label\"]\n",
    "    weights=df[\"weights\"]\n",
    "    \n",
    "    error=0\n",
    "    for i in range(len(label)):\n",
    "        if(label[i]!=y_pred[i]):\n",
    "            error+=weights[i]\n",
    "\n",
    "    alpha=0.5*np.log((1-error)/(error))\n",
    "    return alpha"
   ]
  },
  {
   "cell_type": "code",
   "execution_count": 605,
   "id": "ca8e671f-f549-4bc0-b8e3-eeb4dbe0b472",
   "metadata": {},
   "outputs": [],
   "source": [
    "def update_weights(df):\n",
    "    #updata weights\n",
    "    y_pred=df['y_pred']\n",
    "    label=df[\"label\"]\n",
    "    weights=df[\"weights\"]\n",
    "    updated_weights=[0]*10\n",
    "    for i in range(len(label)):\n",
    "        if(label[i]!=y_pred[i]):\n",
    "            updated_weights[i]=weights[i]*np.exp(alpha)\n",
    "        else:\n",
    "            updated_weights[i]=weights[i]*np.exp(-alpha) \n",
    "    normalize_weights(updated_weights)\n",
    "    df[\"updated_weights\"]=updated_weights"
   ]
  },
  {
   "cell_type": "code",
   "execution_count": 606,
   "id": "a02b885e-0c0a-4958-9b7e-e64c7b369c55",
   "metadata": {},
   "outputs": [],
   "source": [
    "def normalize_weights(updated_weights):\n",
    "    #normalize updated weights\n",
    "    sum=0\n",
    "    for i in range(len(updated_weights)):\n",
    "        sum+=updated_weights[i]\n",
    "    for i in range(len(updated_weights)):\n",
    "        updated_weights[i]=updated_weights[i]/sum"
   ]
  },
  {
   "cell_type": "code",
   "execution_count": 607,
   "id": "61a10665-f67f-450d-aa2c-692d4dd2545b",
   "metadata": {},
   "outputs": [],
   "source": [
    "# create bucket\n",
    "def create_bucket(df):\n",
    "    upper_range=[]\n",
    "    lower_range=[]\n",
    "    updated_weights=df[\"updated_weights\"]\n",
    "    for i in range(len(updated_weights)):\n",
    "        if(i==0):\n",
    "            upper_range.append(updated_weights[0])\n",
    "            lower_range.append(0.0)\n",
    "        else:\n",
    "            lower_range.append(upper_range[i-1])\n",
    "            upper_range.append(upper_range[i-1]+updated_weights[i])\n",
    "    df[\"lower_range\"]=lower_range\n",
    "    df[\"upper_range\"]=upper_range"
   ]
  },
  {
   "cell_type": "code",
   "execution_count": 608,
   "id": "4b9cac91-4b7f-4982-b719-3f9fcf5f06c8",
   "metadata": {},
   "outputs": [],
   "source": [
    "def create_new_dataset(df):\n",
    "    X1=df['X1']\n",
    "    X2=df['X2']\n",
    "    label=df['label']\n",
    "    new_x1=[]\n",
    "    new_x2=[]\n",
    "    new_label=[]\n",
    "    for i in range(len(X)):\n",
    "        row=random.randint(0,9)\n",
    "        new_x1.append(X1[row])\n",
    "        new_x2.append(X2[row])\n",
    "        new_label.append(label[row])\n",
    "        \n",
    "    df1 = pd.DataFrame()\n",
    "    df1[\"X1\"]=new_x1\n",
    "    df1[\"X2\"]=new_x2\n",
    "    df1[\"label\"]=new_label\n",
    "    return df1"
   ]
  },
  {
   "cell_type": "code",
   "execution_count": 609,
   "id": "1c1b50ea-4d40-4a2b-a944-fddf2de6d95f",
   "metadata": {},
   "outputs": [],
   "source": [
    "add_weights(df)"
   ]
  },
  {
   "cell_type": "code",
   "execution_count": 610,
   "id": "e5994053-e1ae-40f3-b883-00bbdb02b8f9",
   "metadata": {},
   "outputs": [],
   "source": [
    "dt1=train_mode(df)"
   ]
  },
  {
   "cell_type": "code",
   "execution_count": 611,
   "id": "0f9e0fcf-2b34-404b-b0ed-8c76489e2461",
   "metadata": {},
   "outputs": [],
   "source": [
    "append_prediciton(df)"
   ]
  },
  {
   "cell_type": "code",
   "execution_count": 612,
   "id": "2d81d7bb-8ce1-426d-ae54-561d2ce996cf",
   "metadata": {},
   "outputs": [
    {
     "data": {
      "text/plain": [
       "0.4236489301936017"
      ]
     },
     "execution_count": 612,
     "metadata": {},
     "output_type": "execute_result"
    }
   ],
   "source": [
    "alpha1=cal_alpha(df)\n",
    "alpha1"
   ]
  },
  {
   "cell_type": "code",
   "execution_count": 613,
   "id": "100c9456-3601-4d82-9ee8-c2220a0f3103",
   "metadata": {},
   "outputs": [],
   "source": [
    "update_weights(df)"
   ]
  },
  {
   "cell_type": "code",
   "execution_count": 614,
   "id": "cdb72b37-f1ea-49b9-9306-3f18e1f972c2",
   "metadata": {},
   "outputs": [],
   "source": [
    "create_bucket(df)"
   ]
  },
  {
   "cell_type": "code",
   "execution_count": null,
   "id": "4106c8db-dad1-4542-a697-9962f3e83553",
   "metadata": {},
   "outputs": [],
   "source": []
  },
  {
   "cell_type": "code",
   "execution_count": 615,
   "id": "545a178b-0276-4871-846a-b6106de1dcb8",
   "metadata": {},
   "outputs": [],
   "source": [
    "df1=create_new_dataset(df)"
   ]
  },
  {
   "cell_type": "code",
   "execution_count": 616,
   "id": "212aa8c8-38dc-4050-98f1-74820bc551f0",
   "metadata": {},
   "outputs": [],
   "source": [
    "add_weights(df1)"
   ]
  },
  {
   "cell_type": "code",
   "execution_count": 617,
   "id": "fcbca76e-f5a6-4bb8-8bd1-24bba3637448",
   "metadata": {},
   "outputs": [],
   "source": [
    "dt2=train_mode(df1)"
   ]
  },
  {
   "cell_type": "code",
   "execution_count": 618,
   "id": "e8ac419c-2d15-4249-b020-60fbe45794ad",
   "metadata": {},
   "outputs": [],
   "source": [
    "append_prediciton(df1)"
   ]
  },
  {
   "cell_type": "code",
   "execution_count": 619,
   "id": "0f072af2-4bed-4791-b9b3-d979c0f3776f",
   "metadata": {},
   "outputs": [
    {
     "data": {
      "text/plain": [
       "0.2027325540540821"
      ]
     },
     "execution_count": 619,
     "metadata": {},
     "output_type": "execute_result"
    }
   ],
   "source": [
    "alpha2=cal_alpha(df1)\n",
    "alpha2"
   ]
  },
  {
   "cell_type": "code",
   "execution_count": 620,
   "id": "a62f8e21-11c2-4cc7-ad94-a72a8143f9b8",
   "metadata": {},
   "outputs": [],
   "source": [
    "update_weights(df1)"
   ]
  },
  {
   "cell_type": "code",
   "execution_count": 621,
   "id": "51138303-9bd0-48e5-9572-5c08bb9cfdd5",
   "metadata": {},
   "outputs": [],
   "source": [
    "create_bucket(df1)"
   ]
  },
  {
   "cell_type": "code",
   "execution_count": null,
   "id": "b60895fa-9697-411f-8e37-da0e04360dd5",
   "metadata": {},
   "outputs": [],
   "source": []
  },
  {
   "cell_type": "code",
   "execution_count": 657,
   "id": "30384cb5-509a-4c95-affd-cabea6da3501",
   "metadata": {},
   "outputs": [],
   "source": [
    "df2=create_new_dataset(df1)"
   ]
  },
  {
   "cell_type": "code",
   "execution_count": 658,
   "id": "d576f3ed-c716-4f9a-85de-a7ffce50001c",
   "metadata": {},
   "outputs": [],
   "source": [
    "add_weights(df2)"
   ]
  },
  {
   "cell_type": "code",
   "execution_count": 659,
   "id": "fdd21774-264f-41f4-9389-066a95e31e1f",
   "metadata": {},
   "outputs": [],
   "source": [
    "dt3=train_mode(df2)"
   ]
  },
  {
   "cell_type": "code",
   "execution_count": 660,
   "id": "8a97e530-cb33-4831-88bc-8c6a11ae2c1c",
   "metadata": {},
   "outputs": [],
   "source": [
    "append_prediciton(df2)"
   ]
  },
  {
   "cell_type": "code",
   "execution_count": 661,
   "id": "c72c0e83-560d-4573-999a-c203e8ae97d3",
   "metadata": {},
   "outputs": [
    {
     "data": {
      "text/plain": [
       "-0.4236489301936017"
      ]
     },
     "execution_count": 661,
     "metadata": {},
     "output_type": "execute_result"
    }
   ],
   "source": [
    "alpha3=cal_alpha(df2)\n",
    "alpha3"
   ]
  },
  {
   "cell_type": "code",
   "execution_count": 662,
   "id": "70a7679b-1831-460c-b008-b6fb90fedd83",
   "metadata": {},
   "outputs": [],
   "source": [
    "update_weights(df2)"
   ]
  },
  {
   "cell_type": "code",
   "execution_count": 663,
   "id": "0ea537c9-8c2a-4c2e-a441-6821402695e9",
   "metadata": {},
   "outputs": [],
   "source": [
    "create_bucket(df2)"
   ]
  },
  {
   "cell_type": "code",
   "execution_count": 728,
   "id": "f3eda9a0-c127-4304-a363-4dba4dd25a48",
   "metadata": {},
   "outputs": [
    {
     "data": {
      "text/plain": [
       "array([0])"
      ]
     },
     "execution_count": 728,
     "metadata": {},
     "output_type": "execute_result"
    }
   ],
   "source": [
    "query = np.array([9,2]).reshape(1,2)\n",
    "dt1.predict(query)"
   ]
  },
  {
   "cell_type": "code",
   "execution_count": 729,
   "id": "1cbb27cc-4f73-4a3d-97f7-6cf62df9e0a5",
   "metadata": {},
   "outputs": [
    {
     "data": {
      "text/plain": [
       "array([0])"
      ]
     },
     "execution_count": 729,
     "metadata": {},
     "output_type": "execute_result"
    }
   ],
   "source": [
    "dt2.predict(query)"
   ]
  },
  {
   "cell_type": "code",
   "execution_count": 730,
   "id": "d737b59b-88b2-48ec-9c03-1d7055d32c2e",
   "metadata": {},
   "outputs": [
    {
     "data": {
      "text/plain": [
       "array([0])"
      ]
     },
     "execution_count": 730,
     "metadata": {},
     "output_type": "execute_result"
    }
   ],
   "source": [
    "dt3.predict(query)"
   ]
  },
  {
   "cell_type": "code",
   "execution_count": 731,
   "id": "8bf27ede-3512-4b2e-9377-409e41a0d5e8",
   "metadata": {},
   "outputs": [
    {
     "data": {
      "text/plain": [
       "-0.20273255405408208"
      ]
     },
     "execution_count": 731,
     "metadata": {},
     "output_type": "execute_result"
    }
   ],
   "source": [
    "alpha1*(-1) + alpha2*(-1) + alpha3*(-1)"
   ]
  },
  {
   "cell_type": "code",
   "execution_count": 733,
   "id": "2fa3ddd4-34d8-4584-97cb-3e54a7f3a5f2",
   "metadata": {},
   "outputs": [
    {
     "data": {
      "text/plain": [
       "-1.0"
      ]
     },
     "execution_count": 733,
     "metadata": {},
     "output_type": "execute_result"
    }
   ],
   "source": [
    "np.sign(-0.20273255405408208)"
   ]
  },
  {
   "cell_type": "code",
   "execution_count": null,
   "id": "76a82eb1-a99d-42c5-a9ac-2efa85e1c356",
   "metadata": {},
   "outputs": [],
   "source": []
  },
  {
   "cell_type": "code",
   "execution_count": 734,
   "id": "cec5c640-f8a8-4d05-a9c5-c47dff83183a",
   "metadata": {},
   "outputs": [
    {
     "data": {
      "text/plain": [
       "array([1])"
      ]
     },
     "execution_count": 734,
     "metadata": {},
     "output_type": "execute_result"
    }
   ],
   "source": [
    "query = np.array([2,3]).reshape(1,2)\n",
    "dt1.predict(query)"
   ]
  },
  {
   "cell_type": "code",
   "execution_count": 735,
   "id": "ce7ce4cb-72c2-42a7-b152-e6824aee5d8e",
   "metadata": {},
   "outputs": [
    {
     "data": {
      "text/plain": [
       "array([0])"
      ]
     },
     "execution_count": 735,
     "metadata": {},
     "output_type": "execute_result"
    }
   ],
   "source": [
    "dt2.predict(query)"
   ]
  },
  {
   "cell_type": "code",
   "execution_count": 736,
   "id": "87a3c7f0-52dc-40f9-82f1-a65f55a88039",
   "metadata": {},
   "outputs": [
    {
     "data": {
      "text/plain": [
       "array([0])"
      ]
     },
     "execution_count": 736,
     "metadata": {},
     "output_type": "execute_result"
    }
   ],
   "source": [
    "dt3.predict(query)"
   ]
  },
  {
   "cell_type": "code",
   "execution_count": 737,
   "id": "c8f19947-4e25-4f82-bd19-9dc43869b332",
   "metadata": {},
   "outputs": [
    {
     "data": {
      "text/plain": [
       "1.0500304144412855"
      ]
     },
     "execution_count": 737,
     "metadata": {},
     "output_type": "execute_result"
    }
   ],
   "source": [
    "alpha1*(1) + alpha2*(1) + alpha3*(-1)"
   ]
  },
  {
   "cell_type": "code",
   "execution_count": 738,
   "id": "80591d46-af29-4f4b-93d6-a3ebe3eef02e",
   "metadata": {},
   "outputs": [
    {
     "data": {
      "text/plain": [
       "1.0"
      ]
     },
     "execution_count": 738,
     "metadata": {},
     "output_type": "execute_result"
    }
   ],
   "source": [
    "np.sign(0.6445653063331214)"
   ]
  },
  {
   "cell_type": "code",
   "execution_count": null,
   "id": "dea5379f-2a1a-4d4e-b029-081cc76eb8ac",
   "metadata": {},
   "outputs": [],
   "source": []
  },
  {
   "cell_type": "code",
   "execution_count": null,
   "id": "26ecb273-9355-4b01-9eb9-a234e0177942",
   "metadata": {},
   "outputs": [],
   "source": []
  }
 ],
 "metadata": {
  "kernelspec": {
   "display_name": "Python 3 (ipykernel)",
   "language": "python",
   "name": "python3"
  },
  "language_info": {
   "codemirror_mode": {
    "name": "ipython",
    "version": 3
   },
   "file_extension": ".py",
   "mimetype": "text/x-python",
   "name": "python",
   "nbconvert_exporter": "python",
   "pygments_lexer": "ipython3",
   "version": "3.9.12"
  }
 },
 "nbformat": 4,
 "nbformat_minor": 5
}
