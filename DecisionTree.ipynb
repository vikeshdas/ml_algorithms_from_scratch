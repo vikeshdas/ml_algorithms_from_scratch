{
 "cells": [
  {
   "cell_type": "code",
   "execution_count": 23,
   "id": "1b1c82e0-d256-47b6-8db6-4cdf6631cb2c",
   "metadata": {},
   "outputs": [],
   "source": [
    "import math"
   ]
  },
  {
   "cell_type": "code",
   "execution_count": 143,
   "id": "3d5a4d6c-6781-4b85-a040-c030e65e4f0f",
   "metadata": {},
   "outputs": [],
   "source": [
    "def parent_entropy(lable):\n",
    "    num_yes=0\n",
    "    num_no=0\n",
    "    for i in range(len(lable)):\n",
    "        if(lable[i]==1):\n",
    "            num_yes+=1\n",
    "        else:\n",
    "            num_no+=1\n",
    "    prob_yes=num_yes/(num_no+num_yes)   \n",
    "    prob_no=num_no/(num_no+num_yes)\n",
    "    \n",
    "    x=0\n",
    "    y=0\n",
    "    if(prob_yes !=0):\n",
    "        x=math.log10(prob_yes)\n",
    "\n",
    "    if(prob_no !=0):\n",
    "        y=math.log10(prob_no)\n",
    "        \n",
    "    entropy= -1 * (prob_yes * x + prob_no * y)\n",
    "    return entropy"
   ]
  },
  {
   "cell_type": "code",
   "execution_count": 169,
   "id": "0ff6dc34-9be4-4051-ab2b-d3766ea2db6f",
   "metadata": {},
   "outputs": [],
   "source": [
    "def left_child_entropy(split,feature,lable):\n",
    "    num_yes=0\n",
    "    num_no=0\n",
    "    for i in range(len(lable)):\n",
    "        if(feature[i]<=split):\n",
    "            if(lable[i]==1):\n",
    "                num_yes+=1\n",
    "            else:\n",
    "                num_no+=1\n",
    "    # print(num_yes,\" \",num_no,split,\"inside left child fucniton\")\n",
    "    prob_yes=num_yes/(num_no+num_yes)   \n",
    "    prob_no=num_no/(num_no+num_yes)\n",
    "    \n",
    "    x=0\n",
    "    y=0\n",
    "    if(prob_yes !=0.0):\n",
    "        x=math.log10(prob_yes)\n",
    "\n",
    "    if(prob_no !=0.0):\n",
    "        y=math.log10(prob_no)\n",
    "\n",
    "    entropy= -1 * (prob_yes * x + prob_no * y)\n",
    "    return entropy\n",
    "    "
   ]
  },
  {
   "cell_type": "code",
   "execution_count": 165,
   "id": "359846a6-5ba1-449a-8d10-11543aa53533",
   "metadata": {},
   "outputs": [],
   "source": [
    "def right_child_entropy(split,feature,lable):\n",
    "    num_yes=0\n",
    "    num_no=0\n",
    "    for i in range(len(lable)):\n",
    "        if(feature[i]>=split):\n",
    "            if(lable[i]==1):\n",
    "                num_yes+=1\n",
    "            else:\n",
    "                num_no+=1\n",
    "                \n",
    "    prob_yes=num_yes/(num_no+num_yes)   \n",
    "    prob_no=num_no/(num_no+num_yes)\n",
    "    \n",
    "    x=0\n",
    "    y=0\n",
    "    if(prob_yes !=0.0):\n",
    "        x=math.log10(prob_yes)\n",
    "\n",
    "    if(prob_no !=0.0):\n",
    "        y=math.log10(prob_no)\n",
    "\n",
    "    entropy= -1 * (prob_yes * x + prob_no * y)\n",
    "    return entropy\n",
    "    "
   ]
  },
  {
   "cell_type": "code",
   "execution_count": 166,
   "id": "668e67c7-b8f8-490c-88d6-46dd0827acdd",
   "metadata": {},
   "outputs": [],
   "source": [
    "def best_split_row(feature,lable):\n",
    "    node_entropy=parent_entropy(lable)\n",
    "    split=0\n",
    "    split_index=0\n",
    "    maxi=feature[0]\n",
    "    mini=feature[0]\n",
    "    for i in range(len(feature)):\n",
    "        mini=min(mini,feature[i])\n",
    "        maxi=max(maxi,feature[i])     \n",
    "    \n",
    "    for i in range(mini,maxi+1):\n",
    "        information_gain=node_entropy-right_child_entropy(i,feature,lable)-left_child_entropy(i,feature,lable)\n",
    "        if(information_gain>split):\n",
    "            split=information_gain\n",
    "            split_index=i\n",
    "    return split_index,split\n",
    "        "
   ]
  },
  {
   "cell_type": "code",
   "execution_count": 174,
   "id": "50d69967-c11e-46b3-9827-9405a17fbe0e",
   "metadata": {},
   "outputs": [],
   "source": [
    "def form_tree(bmi_feature,age_feature,lable):\n",
    "    par_entropy=0\n",
    "    par_entropy=parent_entropy(lable)\n",
    "    \n",
    "    if(par_entropy==0):\n",
    "        print(\"can not futher devid for\")\n",
    "        print(bmi_feature)\n",
    "        print(age_feature)\n",
    "        print(lable)\n",
    "        return \"return\"\n",
    "    \n",
    "    split_bmi,information_gain_bmi=best_split_row(bmi_feature,lable)\n",
    "    split_age,information_gain_age=best_split_row(age_feature,lable)\n",
    "    \n",
    "    left_bmi=[]\n",
    "    left_age=[]\n",
    "    left_lable=[]\n",
    "    right_bmi=[]\n",
    "    right_age=[]\n",
    "    right_lable=[]\n",
    "    if(information_gain_bmi>information_gain_age):\n",
    "        print(\"node became bmi: splite ate\",split_bmi)\n",
    "        for i in range(len(bmi_feature)):\n",
    "            if(bmi_feature[i]<=split_bmi):\n",
    "                left_bmi.append(bmi_feature[i])\n",
    "                left_age.append(age_feature[i])\n",
    "                left_lable.append(lable[i])\n",
    "            else:\n",
    "                right_bmi.append(bmi_feature[i])\n",
    "                right_age.append(age_feature[i])\n",
    "                right_lable.append(lable[i])\n",
    "                \n",
    "    else:\n",
    "        print(\"node became age: split at\",split_age)\n",
    "        for i in range(len(age_feature)):\n",
    "            if(age_feature[i]<=split_age):\n",
    "                left_bmi.append(bmi_feature[i])\n",
    "                left_age.append(age_feature[i])\n",
    "                left_lable.append(lable[i])\n",
    "            else:\n",
    "                right_bmi.append(bmi_feature[i])\n",
    "                right_age.append(age_feature[i])\n",
    "                right_lable.append(lable[i])\n",
    "                \n",
    "    form_tree(left_bmi,left_age,left_lable)\n",
    "    form_tree(right_bmi,right_age,right_lable)\n"
   ]
  },
  {
   "cell_type": "code",
   "execution_count": 175,
   "id": "6d243ce9-90e2-4c44-ad57-358727a78704",
   "metadata": {},
   "outputs": [
    {
     "name": "stdout",
     "output_type": "stream",
     "text": [
      "node became bmi: splite ate 30\n",
      "can not futher devid for\n",
      "[29, 27, 28]\n",
      "[47, 55, 51]\n",
      "[0, 0, 0]\n",
      "node became age: split at 42\n",
      "can not futher devid for\n",
      "[39]\n",
      "[41]\n",
      "[0]\n",
      "can not futher devid for\n",
      "[31, 35, 40]\n",
      "[45, 53, 50]\n",
      "[1, 1, 1]\n"
     ]
    }
   ],
   "source": [
    "form_tree(BMI,age,diabates)"
   ]
  },
  {
   "cell_type": "code",
   "execution_count": 133,
   "id": "559e1e98-86e9-457b-a3e1-6d98d660be7f",
   "metadata": {},
   "outputs": [],
   "source": [
    "BMI=[31,29,27,35,28,40,39]\n",
    "age=[45,47,55,53,51,50,41]\n",
    "diabates=[1,0,0,1,0,1,0]"
   ]
  }
 ],
 "metadata": {
  "kernelspec": {
   "display_name": "Python 3 (ipykernel)",
   "language": "python",
   "name": "python3"
  },
  "language_info": {
   "codemirror_mode": {
    "name": "ipython",
    "version": 3
   },
   "file_extension": ".py",
   "mimetype": "text/x-python",
   "name": "python",
   "nbconvert_exporter": "python",
   "pygments_lexer": "ipython3",
   "version": "3.9.12"
  }
 },
 "nbformat": 4,
 "nbformat_minor": 5
}
