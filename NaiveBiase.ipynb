{
 "cells": [
  {
   "cell_type": "code",
   "execution_count": 96,
   "id": "cc355130-b7d9-4868-b076-b3e7dfe2fbb3",
   "metadata": {},
   "outputs": [],
   "source": [
    "import numpy as np\n",
    "import pandas as pd\n"
   ]
  },
  {
   "cell_type": "code",
   "execution_count": 97,
   "id": "48d228af-b1fe-486c-9ea0-2be629e76ee9",
   "metadata": {},
   "outputs": [],
   "source": [
    "data=pd.read_csv(\"play_tennis.csv\")\n",
    "data.drop(columns=[\"day\"],inplace=True)"
   ]
  },
  {
   "cell_type": "code",
   "execution_count": 98,
   "id": "74759d91-be21-4e8c-9cd4-000affe57d78",
   "metadata": {},
   "outputs": [
    {
     "data": {
      "text/html": [
       "<div>\n",
       "<style scoped>\n",
       "    .dataframe tbody tr th:only-of-type {\n",
       "        vertical-align: middle;\n",
       "    }\n",
       "\n",
       "    .dataframe tbody tr th {\n",
       "        vertical-align: top;\n",
       "    }\n",
       "\n",
       "    .dataframe thead th {\n",
       "        text-align: right;\n",
       "    }\n",
       "</style>\n",
       "<table border=\"1\" class=\"dataframe\">\n",
       "  <thead>\n",
       "    <tr style=\"text-align: right;\">\n",
       "      <th></th>\n",
       "      <th>outlook</th>\n",
       "      <th>temp</th>\n",
       "      <th>humidity</th>\n",
       "      <th>wind</th>\n",
       "      <th>play</th>\n",
       "    </tr>\n",
       "  </thead>\n",
       "  <tbody>\n",
       "    <tr>\n",
       "      <th>0</th>\n",
       "      <td>Sunny</td>\n",
       "      <td>Hot</td>\n",
       "      <td>High</td>\n",
       "      <td>Weak</td>\n",
       "      <td>No</td>\n",
       "    </tr>\n",
       "    <tr>\n",
       "      <th>1</th>\n",
       "      <td>Sunny</td>\n",
       "      <td>Hot</td>\n",
       "      <td>High</td>\n",
       "      <td>Strong</td>\n",
       "      <td>No</td>\n",
       "    </tr>\n",
       "    <tr>\n",
       "      <th>2</th>\n",
       "      <td>Overcast</td>\n",
       "      <td>Hot</td>\n",
       "      <td>High</td>\n",
       "      <td>Weak</td>\n",
       "      <td>Yes</td>\n",
       "    </tr>\n",
       "    <tr>\n",
       "      <th>3</th>\n",
       "      <td>Rain</td>\n",
       "      <td>Mild</td>\n",
       "      <td>High</td>\n",
       "      <td>Weak</td>\n",
       "      <td>Yes</td>\n",
       "    </tr>\n",
       "    <tr>\n",
       "      <th>4</th>\n",
       "      <td>Rain</td>\n",
       "      <td>Cool</td>\n",
       "      <td>Normal</td>\n",
       "      <td>Weak</td>\n",
       "      <td>Yes</td>\n",
       "    </tr>\n",
       "    <tr>\n",
       "      <th>5</th>\n",
       "      <td>Rain</td>\n",
       "      <td>Cool</td>\n",
       "      <td>Normal</td>\n",
       "      <td>Strong</td>\n",
       "      <td>No</td>\n",
       "    </tr>\n",
       "    <tr>\n",
       "      <th>6</th>\n",
       "      <td>Overcast</td>\n",
       "      <td>Cool</td>\n",
       "      <td>Normal</td>\n",
       "      <td>Strong</td>\n",
       "      <td>Yes</td>\n",
       "    </tr>\n",
       "    <tr>\n",
       "      <th>7</th>\n",
       "      <td>Sunny</td>\n",
       "      <td>Mild</td>\n",
       "      <td>High</td>\n",
       "      <td>Weak</td>\n",
       "      <td>No</td>\n",
       "    </tr>\n",
       "    <tr>\n",
       "      <th>8</th>\n",
       "      <td>Sunny</td>\n",
       "      <td>Cool</td>\n",
       "      <td>Normal</td>\n",
       "      <td>Weak</td>\n",
       "      <td>Yes</td>\n",
       "    </tr>\n",
       "    <tr>\n",
       "      <th>9</th>\n",
       "      <td>Rain</td>\n",
       "      <td>Mild</td>\n",
       "      <td>Normal</td>\n",
       "      <td>Weak</td>\n",
       "      <td>Yes</td>\n",
       "    </tr>\n",
       "    <tr>\n",
       "      <th>10</th>\n",
       "      <td>Sunny</td>\n",
       "      <td>Mild</td>\n",
       "      <td>Normal</td>\n",
       "      <td>Strong</td>\n",
       "      <td>Yes</td>\n",
       "    </tr>\n",
       "    <tr>\n",
       "      <th>11</th>\n",
       "      <td>Overcast</td>\n",
       "      <td>Mild</td>\n",
       "      <td>High</td>\n",
       "      <td>Strong</td>\n",
       "      <td>Yes</td>\n",
       "    </tr>\n",
       "    <tr>\n",
       "      <th>12</th>\n",
       "      <td>Overcast</td>\n",
       "      <td>Hot</td>\n",
       "      <td>Normal</td>\n",
       "      <td>Weak</td>\n",
       "      <td>Yes</td>\n",
       "    </tr>\n",
       "    <tr>\n",
       "      <th>13</th>\n",
       "      <td>Rain</td>\n",
       "      <td>Mild</td>\n",
       "      <td>High</td>\n",
       "      <td>Strong</td>\n",
       "      <td>No</td>\n",
       "    </tr>\n",
       "  </tbody>\n",
       "</table>\n",
       "</div>"
      ],
      "text/plain": [
       "     outlook  temp humidity    wind play\n",
       "0      Sunny   Hot     High    Weak   No\n",
       "1      Sunny   Hot     High  Strong   No\n",
       "2   Overcast   Hot     High    Weak  Yes\n",
       "3       Rain  Mild     High    Weak  Yes\n",
       "4       Rain  Cool   Normal    Weak  Yes\n",
       "5       Rain  Cool   Normal  Strong   No\n",
       "6   Overcast  Cool   Normal  Strong  Yes\n",
       "7      Sunny  Mild     High    Weak   No\n",
       "8      Sunny  Cool   Normal    Weak  Yes\n",
       "9       Rain  Mild   Normal    Weak  Yes\n",
       "10     Sunny  Mild   Normal  Strong  Yes\n",
       "11  Overcast  Mild     High  Strong  Yes\n",
       "12  Overcast   Hot   Normal    Weak  Yes\n",
       "13      Rain  Mild     High  Strong   No"
      ]
     },
     "execution_count": 98,
     "metadata": {},
     "output_type": "execute_result"
    }
   ],
   "source": [
    "data"
   ]
  },
  {
   "cell_type": "code",
   "execution_count": 99,
   "id": "00e14333-9caf-49f1-8d95-add9213c1975",
   "metadata": {},
   "outputs": [],
   "source": [
    "#total number of yes and  no in data set \n",
    "model={}\n",
    "num_yes,num_no=data['play'].value_counts()\n",
    "prob_yes=num_yes/(num_yes+num_no)\n",
    "prob_no=num_no/(num_yes+num_no)\n",
    "\n",
    "model['prob_yes']=prob_yes\n",
    "model['prob_no']=prob_no"
   ]
  },
  {
   "cell_type": "code",
   "execution_count": 130,
   "id": "cbcf04a4-942b-4b10-af7d-44f8d9da887b",
   "metadata": {},
   "outputs": [
    {
     "data": {
      "text/html": [
       "<div>\n",
       "<style scoped>\n",
       "    .dataframe tbody tr th:only-of-type {\n",
       "        vertical-align: middle;\n",
       "    }\n",
       "\n",
       "    .dataframe tbody tr th {\n",
       "        vertical-align: top;\n",
       "    }\n",
       "\n",
       "    .dataframe thead th {\n",
       "        text-align: right;\n",
       "    }\n",
       "</style>\n",
       "<table border=\"1\" class=\"dataframe\">\n",
       "  <thead>\n",
       "    <tr style=\"text-align: right;\">\n",
       "      <th>play</th>\n",
       "      <th>No</th>\n",
       "      <th>Yes</th>\n",
       "    </tr>\n",
       "    <tr>\n",
       "      <th>outlook</th>\n",
       "      <th></th>\n",
       "      <th></th>\n",
       "    </tr>\n",
       "  </thead>\n",
       "  <tbody>\n",
       "    <tr>\n",
       "      <th>Overcast</th>\n",
       "      <td>0</td>\n",
       "      <td>4</td>\n",
       "    </tr>\n",
       "    <tr>\n",
       "      <th>Rain</th>\n",
       "      <td>2</td>\n",
       "      <td>3</td>\n",
       "    </tr>\n",
       "    <tr>\n",
       "      <th>Sunny</th>\n",
       "      <td>3</td>\n",
       "      <td>2</td>\n",
       "    </tr>\n",
       "  </tbody>\n",
       "</table>\n",
       "</div>"
      ],
      "text/plain": [
       "play      No  Yes\n",
       "outlook          \n",
       "Overcast   0    4\n",
       "Rain       2    3\n",
       "Sunny      3    2"
      ]
     },
     "execution_count": 130,
     "metadata": {},
     "output_type": "execute_result"
    }
   ],
   "source": [
    "outlook=pd.crosstab(data['outlook'],data['play'])\n",
    "\n",
    "prob_yes_Overcast=4/9\n",
    "prob_yes_Rain=3/9\n",
    "prob_yes_Sunny=2/9\n",
    "model['prob_yes_Overcast']=prob_yes_Overcast\n",
    "model['prob_yes_Rain']=prob_yes_Rain\n",
    "model['prob_yes_Sunny']=prob_yes_Sunny\n",
    "\n",
    "prob_no_Overcast=0/5\n",
    "prob_no_Rain=2/5\n",
    "prob_no_Sunny=3/5\n",
    "model['prob_no_Overcast']=prob_no_Overcast\n",
    "model['prob_no_Rain']=prob_no_Rain\n",
    "model['prob_no_Sunny']=prob_no_Sunny\n",
    "\n",
    "outlook"
   ]
  },
  {
   "cell_type": "code",
   "execution_count": 131,
   "id": "f6554067-7c6d-4881-a11e-4483584b176b",
   "metadata": {},
   "outputs": [
    {
     "data": {
      "text/html": [
       "<div>\n",
       "<style scoped>\n",
       "    .dataframe tbody tr th:only-of-type {\n",
       "        vertical-align: middle;\n",
       "    }\n",
       "\n",
       "    .dataframe tbody tr th {\n",
       "        vertical-align: top;\n",
       "    }\n",
       "\n",
       "    .dataframe thead th {\n",
       "        text-align: right;\n",
       "    }\n",
       "</style>\n",
       "<table border=\"1\" class=\"dataframe\">\n",
       "  <thead>\n",
       "    <tr style=\"text-align: right;\">\n",
       "      <th>play</th>\n",
       "      <th>No</th>\n",
       "      <th>Yes</th>\n",
       "    </tr>\n",
       "    <tr>\n",
       "      <th>temp</th>\n",
       "      <th></th>\n",
       "      <th></th>\n",
       "    </tr>\n",
       "  </thead>\n",
       "  <tbody>\n",
       "    <tr>\n",
       "      <th>Cool</th>\n",
       "      <td>1</td>\n",
       "      <td>3</td>\n",
       "    </tr>\n",
       "    <tr>\n",
       "      <th>Hot</th>\n",
       "      <td>2</td>\n",
       "      <td>2</td>\n",
       "    </tr>\n",
       "    <tr>\n",
       "      <th>Mild</th>\n",
       "      <td>2</td>\n",
       "      <td>4</td>\n",
       "    </tr>\n",
       "  </tbody>\n",
       "</table>\n",
       "</div>"
      ],
      "text/plain": [
       "play  No  Yes\n",
       "temp         \n",
       "Cool   1    3\n",
       "Hot    2    2\n",
       "Mild   2    4"
      ]
     },
     "execution_count": 131,
     "metadata": {},
     "output_type": "execute_result"
    }
   ],
   "source": [
    "temp=pd.crosstab(data['temp'],data['play'])\n",
    "\n",
    "prob_yes_Cool=3/9\n",
    "prob_yes_Hot=2/9\n",
    "prob_yes_Mild=4/9\n",
    "model['prob_yes_Cool']=prob_yes_Cool\n",
    "model['prob_yes_Hot']=prob_yes_Hot\n",
    "model['prob_yes_Mild']=prob_yes_Mild\n",
    "\n",
    "prob_no_Cool=1/5\n",
    "prob_no_Hot=2/5\n",
    "prob_no_Mild=2/5\n",
    "model['prob_no_Cool']=prob_no_Cool\n",
    "model['prob_no_Hot']=prob_no_Hot\n",
    "model['prob_no_Mild']=prob_no_Mild\n",
    "\n",
    "temp"
   ]
  },
  {
   "cell_type": "code",
   "execution_count": 132,
   "id": "8157f686-89ee-4e68-9b44-4dcbfd57af0d",
   "metadata": {},
   "outputs": [
    {
     "data": {
      "text/html": [
       "<div>\n",
       "<style scoped>\n",
       "    .dataframe tbody tr th:only-of-type {\n",
       "        vertical-align: middle;\n",
       "    }\n",
       "\n",
       "    .dataframe tbody tr th {\n",
       "        vertical-align: top;\n",
       "    }\n",
       "\n",
       "    .dataframe thead th {\n",
       "        text-align: right;\n",
       "    }\n",
       "</style>\n",
       "<table border=\"1\" class=\"dataframe\">\n",
       "  <thead>\n",
       "    <tr style=\"text-align: right;\">\n",
       "      <th>play</th>\n",
       "      <th>No</th>\n",
       "      <th>Yes</th>\n",
       "    </tr>\n",
       "    <tr>\n",
       "      <th>humidity</th>\n",
       "      <th></th>\n",
       "      <th></th>\n",
       "    </tr>\n",
       "  </thead>\n",
       "  <tbody>\n",
       "    <tr>\n",
       "      <th>High</th>\n",
       "      <td>4</td>\n",
       "      <td>3</td>\n",
       "    </tr>\n",
       "    <tr>\n",
       "      <th>Normal</th>\n",
       "      <td>1</td>\n",
       "      <td>6</td>\n",
       "    </tr>\n",
       "  </tbody>\n",
       "</table>\n",
       "</div>"
      ],
      "text/plain": [
       "play      No  Yes\n",
       "humidity         \n",
       "High       4    3\n",
       "Normal     1    6"
      ]
     },
     "execution_count": 132,
     "metadata": {},
     "output_type": "execute_result"
    }
   ],
   "source": [
    "humidity=pd.crosstab(data['humidity'],data['play'])\n",
    "\n",
    "prob_yes_High=3/9\n",
    "prob_yes_Normal=6/9\n",
    "model['prob_yes_High']=prob_yes_High\n",
    "model['prob_yes_Normal']=prob_yes_Normal\n",
    "\n",
    "\n",
    "prob_no_High=4/5\n",
    "prob_no_Normal=1/5\n",
    "model['prob_no_High']=prob_no_High\n",
    "model['prob_no_Normal']=prob_no_Normal\n",
    "\n",
    "\n",
    "humidity"
   ]
  },
  {
   "cell_type": "code",
   "execution_count": 133,
   "id": "63329fc0-a253-4443-be15-31c0d9698bf5",
   "metadata": {},
   "outputs": [
    {
     "data": {
      "text/html": [
       "<div>\n",
       "<style scoped>\n",
       "    .dataframe tbody tr th:only-of-type {\n",
       "        vertical-align: middle;\n",
       "    }\n",
       "\n",
       "    .dataframe tbody tr th {\n",
       "        vertical-align: top;\n",
       "    }\n",
       "\n",
       "    .dataframe thead th {\n",
       "        text-align: right;\n",
       "    }\n",
       "</style>\n",
       "<table border=\"1\" class=\"dataframe\">\n",
       "  <thead>\n",
       "    <tr style=\"text-align: right;\">\n",
       "      <th>play</th>\n",
       "      <th>No</th>\n",
       "      <th>Yes</th>\n",
       "    </tr>\n",
       "    <tr>\n",
       "      <th>wind</th>\n",
       "      <th></th>\n",
       "      <th></th>\n",
       "    </tr>\n",
       "  </thead>\n",
       "  <tbody>\n",
       "    <tr>\n",
       "      <th>Strong</th>\n",
       "      <td>3</td>\n",
       "      <td>3</td>\n",
       "    </tr>\n",
       "    <tr>\n",
       "      <th>Weak</th>\n",
       "      <td>2</td>\n",
       "      <td>6</td>\n",
       "    </tr>\n",
       "  </tbody>\n",
       "</table>\n",
       "</div>"
      ],
      "text/plain": [
       "play    No  Yes\n",
       "wind           \n",
       "Strong   3    3\n",
       "Weak     2    6"
      ]
     },
     "execution_count": 133,
     "metadata": {},
     "output_type": "execute_result"
    }
   ],
   "source": [
    "wind=pd.crosstab(data['wind'],data['play'])\n",
    "\n",
    "prob_yes_Strong=3/9\n",
    "prob_yes_Weak=6/9\n",
    "model['prob_yes_Strong']=prob_yes_Strong\n",
    "model['prob_yes_Weak']=prob_yes_Weak\n",
    "\n",
    "prob_no_Strong=3/5\n",
    "prob_no_Weak=2/5\n",
    "model['prob_no_Strong']=prob_no_Strong\n",
    "model['prob_no_Weak']=prob_no_Weak\n",
    "\n",
    "wind"
   ]
  },
  {
   "cell_type": "code",
   "execution_count": 140,
   "id": "12f1453b-86f8-4922-96a6-d4f7a433173f",
   "metadata": {},
   "outputs": [],
   "source": [
    "def predict(input):\n",
    "    f1_yes=model['prob_yes_'+input[0]]\n",
    "    f2_yes=model['prob_yes_'+input[1]]\n",
    "    f3_yes=model['prob_yes_'+input[2]]\n",
    "    f4_yes=model['prob_yes_'+input[3]]\n",
    "    \n",
    "    \n",
    "    yes_p=f1_yes*f2_yes*f3_yes*f4_yes*prob_yes\n",
    "    \n",
    "    f1_no=model['prob_no_'+input[0]]\n",
    "    f2_no=model['prob_no_'+input[1]]\n",
    "    f3_no=model['prob_no_'+input[2]]\n",
    "    f4_no=model['prob_no_'+input[3]]\n",
    "    no_p=f1_no*f2_no*f3_no*f4_no*prob_no\n",
    "    if(no_p>yes_p):\n",
    "        print(\"no\")\n",
    "    else:\n",
    "        print(\"yes\")"
   ]
  },
  {
   "cell_type": "code",
   "execution_count": 141,
   "id": "64b25a58-86d7-4450-859d-d829aa7e91e3",
   "metadata": {},
   "outputs": [
    {
     "data": {
      "text/plain": [
       "{'prob_yes': 0.6428571428571429,\n",
       " 'prob_no': 0.35714285714285715,\n",
       " 'prob_yes_Overcast': 0.4444444444444444,\n",
       " 'prob_yes_Rain': 0.3333333333333333,\n",
       " 'prob_yes_Sunny': 0.2222222222222222,\n",
       " 'prob_no_Overcas': 0.0,\n",
       " 'prob_no_Rain': 0.4,\n",
       " 'prob_no_Sunny': 0.6,\n",
       " 'prob_yes_Cool': 0.3333333333333333,\n",
       " 'prob_yes_Hot': 0.2222222222222222,\n",
       " 'prob_yes_Mild': 0.4444444444444444,\n",
       " 'prob_no_Cool': 0.2,\n",
       " 'prob_no_Hot': 0.4,\n",
       " 'prob_no_Mild': 0.4,\n",
       " 'prob_yes_High': 0.3333333333333333,\n",
       " 'prob_yes_Normal': 0.6666666666666666,\n",
       " 'prob_no_High': 0.8,\n",
       " 'prob_no_Normal': 0.2,\n",
       " 'prob_yes_Strong': 0.3333333333333333,\n",
       " 'prob_yes_Weak': 0.6666666666666666,\n",
       " 'prob_no_Strong': 0.6,\n",
       " 'prob_no_Weak': 0.4,\n",
       " 'prob_no_Overcast': 0.0}"
      ]
     },
     "execution_count": 141,
     "metadata": {},
     "output_type": "execute_result"
    }
   ],
   "source": [
    "model"
   ]
  },
  {
   "cell_type": "code",
   "execution_count": null,
   "id": "4600f1a0-ab76-43ad-9aca-22818dc5b04a",
   "metadata": {},
   "outputs": [],
   "source": [
    "#sunny,mild,high,weak\n",
    "#p(yes/sunny,mild,high,weak)=p(sunny/yes)*p(mild/yes)*p(high/yes)*p(weak/yes)*p(yes)--->x\n",
    "\n",
    "#p(no/sunny,mild,high,weak)=p(sunny/no)*p(mild/no)*p(high/no)*p(weak/no)*p(no)--------->y\n",
    "\n",
    "#output max(x,y)\n",
    "\n",
    "yes_p=prob_yes_sunny*prob_yes_mild*prob_yes_high*prob_yes_weak*prob_yes\n",
    "\n",
    "\n",
    "no_p=prob_no_sunny*prob_no_mild*prob_no_high*prob_no_weak*prob_no\n",
    "if(no_p>yes_p):\n",
    "    print(\"no\")\n",
    "else:\n",
    "    print(\"yes\")"
   ]
  },
  {
   "cell_type": "code",
   "execution_count": 136,
   "id": "79e7815f-df06-4872-84d4-3e58bddfd100",
   "metadata": {},
   "outputs": [],
   "source": [
    "input=['Overcast','Hot','High','Weak']"
   ]
  },
  {
   "cell_type": "code",
   "execution_count": 137,
   "id": "04c473a3-204f-4dcd-9d6b-e4f1402dc42b",
   "metadata": {},
   "outputs": [
    {
     "name": "stdout",
     "output_type": "stream",
     "text": [
      "yes\n"
     ]
    }
   ],
   "source": [
    "predict(input)"
   ]
  },
  {
   "cell_type": "code",
   "execution_count": 138,
   "id": "126e7c07-0d5a-45ae-8fd4-9b367644f752",
   "metadata": {},
   "outputs": [
    {
     "data": {
      "text/plain": [
       "0.8"
      ]
     },
     "execution_count": 138,
     "metadata": {},
     "output_type": "execute_result"
    }
   ],
   "source": [
    "model['prob_no_High']"
   ]
  },
  {
   "cell_type": "code",
   "execution_count": 139,
   "id": "759b7ada-9d82-4ea0-bbae-898c5c3434f0",
   "metadata": {},
   "outputs": [
    {
     "data": {
      "text/plain": [
       "{'prob_yes': 0.6428571428571429,\n",
       " 'prob_no': 0.35714285714285715,\n",
       " 'prob_yes_Overcast': 0.4444444444444444,\n",
       " 'prob_yes_Rain': 0.3333333333333333,\n",
       " 'prob_yes_Sunny': 0.2222222222222222,\n",
       " 'prob_no_Overcas': 0.0,\n",
       " 'prob_no_Rain': 0.4,\n",
       " 'prob_no_Sunny': 0.6,\n",
       " 'prob_yes_Cool': 0.3333333333333333,\n",
       " 'prob_yes_Hot': 0.2222222222222222,\n",
       " 'prob_yes_Mild': 0.4444444444444444,\n",
       " 'prob_no_Cool': 0.2,\n",
       " 'prob_no_Hot': 0.4,\n",
       " 'prob_no_Mild': 0.4,\n",
       " 'prob_yes_High': 0.3333333333333333,\n",
       " 'prob_yes_Normal': 0.6666666666666666,\n",
       " 'prob_no_High': 0.8,\n",
       " 'prob_no_Normal': 0.2,\n",
       " 'prob_yes_Strong': 0.3333333333333333,\n",
       " 'prob_yes_Weak': 0.6666666666666666,\n",
       " 'prob_no_Strong': 0.6,\n",
       " 'prob_no_Weak': 0.4,\n",
       " 'prob_no_Overcast': 0.0}"
      ]
     },
     "execution_count": 139,
     "metadata": {},
     "output_type": "execute_result"
    }
   ],
   "source": [
    "\n"
   ]
  },
  {
   "cell_type": "code",
   "execution_count": null,
   "id": "4d15efcd-29d7-44ee-8558-ea4bf9431315",
   "metadata": {},
   "outputs": [],
   "source": []
  }
 ],
 "metadata": {
  "kernelspec": {
   "display_name": "Python 3 (ipykernel)",
   "language": "python",
   "name": "python3"
  },
  "language_info": {
   "codemirror_mode": {
    "name": "ipython",
    "version": 3
   },
   "file_extension": ".py",
   "mimetype": "text/x-python",
   "name": "python",
   "nbconvert_exporter": "python",
   "pygments_lexer": "ipython3",
   "version": "3.9.12"
  }
 },
 "nbformat": 4,
 "nbformat_minor": 5
}
