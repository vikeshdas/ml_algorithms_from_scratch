{
 "cells": [
  {
   "cell_type": "code",
   "execution_count": 168,
   "id": "f0d9b613-7466-4bd5-9df3-7a05c45adda7",
   "metadata": {},
   "outputs": [],
   "source": [
    "import pandas as pd\n",
    "import numpy as np\n",
    "import operator"
   ]
  },
  {
   "cell_type": "code",
   "execution_count": 169,
   "id": "18cb924a-f840-48e1-8859-f92931bb8871",
   "metadata": {},
   "outputs": [],
   "source": [
    "data=pd.read_csv('Social_Network_Ads.csv')\n",
    "#only column 2,3\n",
    "x=data.iloc[:,2:4].values\n",
    "y=data.iloc[:,-1].values\n"
   ]
  },
  {
   "cell_type": "code",
   "execution_count": 170,
   "id": "c9f328a9-5891-4fd4-94c6-dbf666b822eb",
   "metadata": {},
   "outputs": [],
   "source": [
    "from sklearn.model_selection import train_test_split\n",
    "X_train,X_test,y_train,y_test=train_test_split(X,y,test_size=0.20)"
   ]
  },
  {
   "cell_type": "code",
   "execution_count": 171,
   "id": "740c44c5-4334-4a29-9214-19d12b48243c",
   "metadata": {},
   "outputs": [
    {
     "data": {
      "text/plain": [
       "array([    27, 137000])"
      ]
     },
     "execution_count": 171,
     "metadata": {},
     "output_type": "execute_result"
    }
   ],
   "source": [
    "input=X_test[0]\n",
    "input"
   ]
  },
  {
   "cell_type": "code",
   "execution_count": 198,
   "id": "49c08836-20fb-49cc-9233-d8cccb07e33c",
   "metadata": {},
   "outputs": [],
   "source": [
    "k=5\n",
    "maxi=0\n",
    "\n",
    "def predict(X):\n",
    "    distance={}\n",
    "    row_number=1\n",
    "    \n",
    "\n",
    "    x1=X[0]\n",
    "    y1=x[1]\n",
    "    for i in X_train:\n",
    "        x2=i[0]\n",
    "        y2=i[1]\n",
    "        distance[row_number]=((x2-x1)**2 + (y2-y1)**2)**1/2\n",
    "        row_number+=1\n",
    "    \n",
    "    #sort dictionary\n",
    "    distance=sorted(distance.items(), key=operator.itemgetter(1))\n",
    "    #first k distance\n",
    "    distance=distance[:k]\n",
    "\n",
    "    lable=[]\n",
    "    for i in distance:\n",
    "            #print(i[0])\n",
    "            index=i[0]\n",
    "            lable.append(y_train[index])\n",
    "    # print(lable)\n",
    "    \n",
    "    yes=0\n",
    "    no=0\n",
    "    for i in lable:\n",
    "        if(i==0):\n",
    "            no+=1\n",
    "        else:\n",
    "            yes+=1\n",
    "    \n",
    "    if(yes>no):\n",
    "        print(1)\n",
    "    else:\n",
    "        print(0)"
   ]
  },
  {
   "cell_type": "code",
   "execution_count": 212,
   "id": "84fb3fb1-f4eb-4cc0-9787-0ef01d084254",
   "metadata": {},
   "outputs": [],
   "source": [
    "x=[49,  39000]"
   ]
  },
  {
   "cell_type": "code",
   "execution_count": 213,
   "id": "f3393bca-6d54-4c60-aef2-1636de5ab19a",
   "metadata": {},
   "outputs": [
    {
     "name": "stdout",
     "output_type": "stream",
     "text": [
      "1\n"
     ]
    }
   ],
   "source": [
    "predict(x)"
   ]
  },
  {
   "cell_type": "code",
   "execution_count": null,
   "id": "f4adfcf2-c605-422e-8e9d-93f91a4f087c",
   "metadata": {},
   "outputs": [],
   "source": []
  }
 ],
 "metadata": {
  "kernelspec": {
   "display_name": "Python 3 (ipykernel)",
   "language": "python",
   "name": "python3"
  },
  "language_info": {
   "codemirror_mode": {
    "name": "ipython",
    "version": 3
   },
   "file_extension": ".py",
   "mimetype": "text/x-python",
   "name": "python",
   "nbconvert_exporter": "python",
   "pygments_lexer": "ipython3",
   "version": "3.9.12"
  }
 },
 "nbformat": 4,
 "nbformat_minor": 5
}
